{
 "cells": [
  {
   "cell_type": "markdown",
   "metadata": {
    "id": "QS0bKzvd4ozE"
   },
   "source": [
    "# TF-IDF\n",
    "Natural Language Processing (NLP) is a sub-field of artificial intelligence that deals with understanding and processing human language. In light of new advancements in machine learning, many organizations have begun applying natural language processing for translation, chatbots and candidate filtering."
   ]
  },
  {
   "cell_type": "code",
   "execution_count": 1,
   "metadata": {
    "id": "MsN-A3ou4ozH"
   },
   "outputs": [],
   "source": [
    "import pandas as pd\n",
    "from sklearn.feature_extraction.text import TfidfVectorizer\n",
    "f1=open('testdoc.txt','r')\n",
    "f2=open('testdoc2.txt','r')"
   ]
  },
  {
   "cell_type": "code",
   "execution_count": 2,
   "metadata": {
    "id": "pZkZu4yN4ozJ"
   },
   "outputs": [],
   "source": [
    "documentA = f1.read()\n",
    "documentB = f2.read()"
   ]
  },
  {
   "cell_type": "markdown",
   "metadata": {
    "id": "dk7qD7dL4ozJ"
   },
   "source": [
    "Machine learning algorithms cannot work with raw text directly. Rather, the text must be converted into vectors of numbers. In natural language processing, a common technique for extracting features from text is to place all of the words that occur in the text in a bucket. This aproach is called a bag of words model or BoW for short. It’s referred to as a “bag” of words because any information about the structure of the sentence is lost."
   ]
  },
  {
   "cell_type": "code",
   "execution_count": 3,
   "metadata": {
    "id": "_wN7AJ6l4ozK"
   },
   "outputs": [],
   "source": [
    "bagOfWordsA = documentA.split(' ')\n",
    "bagOfWordsB = documentB.split(' ')"
   ]
  },
  {
   "cell_type": "code",
   "execution_count": 4,
   "metadata": {
    "id": "Xrtzjm8z4ozK"
   },
   "outputs": [],
   "source": [
    "uniqueWords = set(bagOfWordsA).union(set(bagOfWordsB))"
   ]
  },
  {
   "cell_type": "code",
   "execution_count": 5,
   "metadata": {
    "id": "MAnomBCW4ozK"
   },
   "outputs": [],
   "source": [
    "numOfWordsA = dict.fromkeys(uniqueWords, 0)\n",
    "for word in bagOfWordsA:\n",
    "    numOfWordsA[word] += 1\n",
    "numOfWordsB = dict.fromkeys(uniqueWords, 0)\n",
    "for word in bagOfWordsB:\n",
    "    numOfWordsB[word] += 1"
   ]
  },
  {
   "cell_type": "markdown",
   "metadata": {
    "id": "51cTWwhu4ozL"
   },
   "source": [
    "Another problem with the bag of words approach is that it doesn’t account for noise. In other words, certain words are used to formulate sentences but do not add any semantic meaning to the text. For example, the most commonly used word in the english language is the which represents 7% of all words written or spoken. You couldn’t make deduce anything about a text given the fact that it contains the word the. On the other hand, words like good and awesome could be used to determine whether a rating was positive or not.\n",
    "\n",
    "In natural language processing, useless words are referred to as stop words. The python natural language toolkit library provides a list of english stop words."
   ]
  },
  {
   "cell_type": "code",
   "execution_count": 6,
   "metadata": {
    "colab": {
     "base_uri": "https://localhost:8080/"
    },
    "id": "ey7gjdNp4ozL",
    "outputId": "2ba5ac27-91cf-4276-a567-7c7b67737ed5"
   },
   "outputs": [
    {
     "name": "stderr",
     "output_type": "stream",
     "text": [
      "[nltk_data] Downloading package stopwords to\n",
      "[nltk_data]     C:\\Users\\Lenovo\\AppData\\Roaming\\nltk_data...\n",
      "[nltk_data]   Unzipping corpora\\stopwords.zip.\n"
     ]
    },
    {
     "data": {
      "text/plain": [
       "['i',\n",
       " 'me',\n",
       " 'my',\n",
       " 'myself',\n",
       " 'we',\n",
       " 'our',\n",
       " 'ours',\n",
       " 'ourselves',\n",
       " 'you',\n",
       " \"you're\",\n",
       " \"you've\",\n",
       " \"you'll\",\n",
       " \"you'd\",\n",
       " 'your',\n",
       " 'yours',\n",
       " 'yourself',\n",
       " 'yourselves',\n",
       " 'he',\n",
       " 'him',\n",
       " 'his',\n",
       " 'himself',\n",
       " 'she',\n",
       " \"she's\",\n",
       " 'her',\n",
       " 'hers',\n",
       " 'herself',\n",
       " 'it',\n",
       " \"it's\",\n",
       " 'its',\n",
       " 'itself',\n",
       " 'they',\n",
       " 'them',\n",
       " 'their',\n",
       " 'theirs',\n",
       " 'themselves',\n",
       " 'what',\n",
       " 'which',\n",
       " 'who',\n",
       " 'whom',\n",
       " 'this',\n",
       " 'that',\n",
       " \"that'll\",\n",
       " 'these',\n",
       " 'those',\n",
       " 'am',\n",
       " 'is',\n",
       " 'are',\n",
       " 'was',\n",
       " 'were',\n",
       " 'be',\n",
       " 'been',\n",
       " 'being',\n",
       " 'have',\n",
       " 'has',\n",
       " 'had',\n",
       " 'having',\n",
       " 'do',\n",
       " 'does',\n",
       " 'did',\n",
       " 'doing',\n",
       " 'a',\n",
       " 'an',\n",
       " 'the',\n",
       " 'and',\n",
       " 'but',\n",
       " 'if',\n",
       " 'or',\n",
       " 'because',\n",
       " 'as',\n",
       " 'until',\n",
       " 'while',\n",
       " 'of',\n",
       " 'at',\n",
       " 'by',\n",
       " 'for',\n",
       " 'with',\n",
       " 'about',\n",
       " 'against',\n",
       " 'between',\n",
       " 'into',\n",
       " 'through',\n",
       " 'during',\n",
       " 'before',\n",
       " 'after',\n",
       " 'above',\n",
       " 'below',\n",
       " 'to',\n",
       " 'from',\n",
       " 'up',\n",
       " 'down',\n",
       " 'in',\n",
       " 'out',\n",
       " 'on',\n",
       " 'off',\n",
       " 'over',\n",
       " 'under',\n",
       " 'again',\n",
       " 'further',\n",
       " 'then',\n",
       " 'once',\n",
       " 'here',\n",
       " 'there',\n",
       " 'when',\n",
       " 'where',\n",
       " 'why',\n",
       " 'how',\n",
       " 'all',\n",
       " 'any',\n",
       " 'both',\n",
       " 'each',\n",
       " 'few',\n",
       " 'more',\n",
       " 'most',\n",
       " 'other',\n",
       " 'some',\n",
       " 'such',\n",
       " 'no',\n",
       " 'nor',\n",
       " 'not',\n",
       " 'only',\n",
       " 'own',\n",
       " 'same',\n",
       " 'so',\n",
       " 'than',\n",
       " 'too',\n",
       " 'very',\n",
       " 's',\n",
       " 't',\n",
       " 'can',\n",
       " 'will',\n",
       " 'just',\n",
       " 'don',\n",
       " \"don't\",\n",
       " 'should',\n",
       " \"should've\",\n",
       " 'now',\n",
       " 'd',\n",
       " 'll',\n",
       " 'm',\n",
       " 'o',\n",
       " 're',\n",
       " 've',\n",
       " 'y',\n",
       " 'ain',\n",
       " 'aren',\n",
       " \"aren't\",\n",
       " 'couldn',\n",
       " \"couldn't\",\n",
       " 'didn',\n",
       " \"didn't\",\n",
       " 'doesn',\n",
       " \"doesn't\",\n",
       " 'hadn',\n",
       " \"hadn't\",\n",
       " 'hasn',\n",
       " \"hasn't\",\n",
       " 'haven',\n",
       " \"haven't\",\n",
       " 'isn',\n",
       " \"isn't\",\n",
       " 'ma',\n",
       " 'mightn',\n",
       " \"mightn't\",\n",
       " 'mustn',\n",
       " \"mustn't\",\n",
       " 'needn',\n",
       " \"needn't\",\n",
       " 'shan',\n",
       " \"shan't\",\n",
       " 'shouldn',\n",
       " \"shouldn't\",\n",
       " 'wasn',\n",
       " \"wasn't\",\n",
       " 'weren',\n",
       " \"weren't\",\n",
       " 'won',\n",
       " \"won't\",\n",
       " 'wouldn',\n",
       " \"wouldn't\"]"
      ]
     },
     "execution_count": 6,
     "metadata": {},
     "output_type": "execute_result"
    }
   ],
   "source": [
    "import nltk\n",
    "nltk.download('stopwords')\n",
    "from nltk.corpus import stopwords\n",
    "stopwords.words('english')"
   ]
  },
  {
   "cell_type": "markdown",
   "metadata": {
    "id": "wvXhIgeu4ozM"
   },
   "source": [
    "# Term Frequency (TF)\n",
    "The number of times a word appears in a document divded by the total number of words in the document. Every document has its own term frequency.\n",
    "\n",
    "![tf.png](data:image/png;base64,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)"
   ]
  },
  {
   "cell_type": "code",
   "execution_count": 7,
   "metadata": {
    "id": "LdgBYY4X4ozM"
   },
   "outputs": [],
   "source": [
    "def computeTF(wordDict, bagOfWords):\n",
    "    tfDict = {}\n",
    "    bagOfWordsCount = len(bagOfWords)\n",
    "    for word, count in wordDict.items():\n",
    "        tfDict[word] = count / float(bagOfWordsCount)\n",
    "    return tfDict"
   ]
  },
  {
   "cell_type": "code",
   "execution_count": 8,
   "metadata": {
    "id": "l-eM8sfV4ozM"
   },
   "outputs": [],
   "source": [
    "tfA = computeTF(numOfWordsA, bagOfWordsA)\n",
    "tfB = computeTF(numOfWordsB, bagOfWordsB)"
   ]
  },
  {
   "cell_type": "markdown",
   "metadata": {
    "id": "QEG6_EMG4ozN"
   },
   "source": [
    "# Inverse Data Frequency (IDF)\n",
    "The log of the number of documents divided by the number of documents that contain the word w. Inverse data frequency determines the weight of rare words across all documents in the corpus.\n",
    "![idf.png](data:image/png;base64,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)"
   ]
  },
  {
   "cell_type": "code",
   "execution_count": 9,
   "metadata": {
    "id": "fbFjSGph4ozN"
   },
   "outputs": [],
   "source": [
    "def computeIDF(documents):\n",
    "    import math\n",
    "    N = len(documents)\n",
    "    \n",
    "    idfDict = dict.fromkeys(documents[0].keys(), 0)\n",
    "    for document in documents:\n",
    "        for word, val in document.items():\n",
    "            if val > 0:\n",
    "                idfDict[word] += 1\n",
    "    \n",
    "    for word, val in idfDict.items():\n",
    "        idfDict[word] = math.log(N / float(val))\n",
    "    return idfDict"
   ]
  },
  {
   "cell_type": "code",
   "execution_count": 10,
   "metadata": {
    "id": "XX8adtAD4ozN"
   },
   "outputs": [],
   "source": [
    "idfs = computeIDF([numOfWordsA, numOfWordsB])"
   ]
  },
  {
   "cell_type": "markdown",
   "metadata": {
    "id": "bbq9dxuy4ozO"
   },
   "source": [
    "Lastly, the TF-IDF is simply the TF multiplied by IDF.\n",
    "\n",
    "![tfidf.png](data:image/png;base64,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)\n",
    "<img src=\"tfidf.png\">"
   ]
  },
  {
   "cell_type": "code",
   "execution_count": null,
   "metadata": {
    "id": "ckQh-2Rj4ozO"
   },
   "outputs": [],
   "source": [
    "def computeTFIDF(tfBagOfWords, idfs):\n",
    "    tfidf = {}\n",
    "    for word, val in tfBagOfWords.items():\n",
    "        tfidf[word] = val * idfs[word]\n",
    "    return tfidf"
   ]
  },
  {
   "cell_type": "code",
   "execution_count": null,
   "metadata": {
    "id": "Bath6jqk4ozO"
   },
   "outputs": [],
   "source": [
    "tfidfA = computeTFIDF(tfA, idfs)\n",
    "tfidfB = computeTFIDF(tfB, idfs)\n",
    "df = pd.DataFrame([tfidfA, tfidfB])"
   ]
  },
  {
   "cell_type": "code",
   "execution_count": null,
   "metadata": {
    "colab": {
     "base_uri": "https://localhost:8080/",
     "height": 112
    },
    "id": "dunDJyk25GaS",
    "outputId": "5f53f54a-6c26-4034-c2f5-e14c1c7b3db0"
   },
   "outputs": [
    {
     "data": {
      "text/html": [
       "\n",
       "  <div id=\"df-aa7cb7be-c7d4-4c97-9578-5e387fd5de99\">\n",
       "    <div class=\"colab-df-container\">\n",
       "      <div>\n",
       "<style scoped>\n",
       "    .dataframe tbody tr th:only-of-type {\n",
       "        vertical-align: middle;\n",
       "    }\n",
       "\n",
       "    .dataframe tbody tr th {\n",
       "        vertical-align: top;\n",
       "    }\n",
       "\n",
       "    .dataframe thead th {\n",
       "        text-align: right;\n",
       "    }\n",
       "</style>\n",
       "<table border=\"1\" class=\"dataframe\">\n",
       "  <thead>\n",
       "    <tr style=\"text-align: right;\">\n",
       "      <th></th>\n",
       "      <th>the</th>\n",
       "      <th>out</th>\n",
       "      <th>sat</th>\n",
       "      <th>man</th>\n",
       "      <th>children</th>\n",
       "      <th>around</th>\n",
       "      <th>went</th>\n",
       "      <th>fire</th>\n",
       "      <th>for</th>\n",
       "      <th>a</th>\n",
       "      <th>walk</th>\n",
       "    </tr>\n",
       "  </thead>\n",
       "  <tbody>\n",
       "    <tr>\n",
       "      <th>0</th>\n",
       "      <td>0.0</td>\n",
       "      <td>0.099021</td>\n",
       "      <td>0.000000</td>\n",
       "      <td>0.099021</td>\n",
       "      <td>0.000000</td>\n",
       "      <td>0.000000</td>\n",
       "      <td>0.099021</td>\n",
       "      <td>0.000000</td>\n",
       "      <td>0.099021</td>\n",
       "      <td>0.099021</td>\n",
       "      <td>0.099021</td>\n",
       "    </tr>\n",
       "    <tr>\n",
       "      <th>1</th>\n",
       "      <td>0.0</td>\n",
       "      <td>0.000000</td>\n",
       "      <td>0.115525</td>\n",
       "      <td>0.000000</td>\n",
       "      <td>0.115525</td>\n",
       "      <td>0.115525</td>\n",
       "      <td>0.000000</td>\n",
       "      <td>0.115525</td>\n",
       "      <td>0.000000</td>\n",
       "      <td>0.000000</td>\n",
       "      <td>0.000000</td>\n",
       "    </tr>\n",
       "  </tbody>\n",
       "</table>\n",
       "</div>\n",
       "      <button class=\"colab-df-convert\" onclick=\"convertToInteractive('df-aa7cb7be-c7d4-4c97-9578-5e387fd5de99')\"\n",
       "              title=\"Convert this dataframe to an interactive table.\"\n",
       "              style=\"display:none;\">\n",
       "        \n",
       "  <svg xmlns=\"http://www.w3.org/2000/svg\" height=\"24px\"viewBox=\"0 0 24 24\"\n",
       "       width=\"24px\">\n",
       "    <path d=\"M0 0h24v24H0V0z\" fill=\"none\"/>\n",
       "    <path d=\"M18.56 5.44l.94 2.06.94-2.06 2.06-.94-2.06-.94-.94-2.06-.94 2.06-2.06.94zm-11 1L8.5 8.5l.94-2.06 2.06-.94-2.06-.94L8.5 2.5l-.94 2.06-2.06.94zm10 10l.94 2.06.94-2.06 2.06-.94-2.06-.94-.94-2.06-.94 2.06-2.06.94z\"/><path d=\"M17.41 7.96l-1.37-1.37c-.4-.4-.92-.59-1.43-.59-.52 0-1.04.2-1.43.59L10.3 9.45l-7.72 7.72c-.78.78-.78 2.05 0 2.83L4 21.41c.39.39.9.59 1.41.59.51 0 1.02-.2 1.41-.59l7.78-7.78 2.81-2.81c.8-.78.8-2.07 0-2.86zM5.41 20L4 18.59l7.72-7.72 1.47 1.35L5.41 20z\"/>\n",
       "  </svg>\n",
       "      </button>\n",
       "      \n",
       "  <style>\n",
       "    .colab-df-container {\n",
       "      display:flex;\n",
       "      flex-wrap:wrap;\n",
       "      gap: 12px;\n",
       "    }\n",
       "\n",
       "    .colab-df-convert {\n",
       "      background-color: #E8F0FE;\n",
       "      border: none;\n",
       "      border-radius: 50%;\n",
       "      cursor: pointer;\n",
       "      display: none;\n",
       "      fill: #1967D2;\n",
       "      height: 32px;\n",
       "      padding: 0 0 0 0;\n",
       "      width: 32px;\n",
       "    }\n",
       "\n",
       "    .colab-df-convert:hover {\n",
       "      background-color: #E2EBFA;\n",
       "      box-shadow: 0px 1px 2px rgba(60, 64, 67, 0.3), 0px 1px 3px 1px rgba(60, 64, 67, 0.15);\n",
       "      fill: #174EA6;\n",
       "    }\n",
       "\n",
       "    [theme=dark] .colab-df-convert {\n",
       "      background-color: #3B4455;\n",
       "      fill: #D2E3FC;\n",
       "    }\n",
       "\n",
       "    [theme=dark] .colab-df-convert:hover {\n",
       "      background-color: #434B5C;\n",
       "      box-shadow: 0px 1px 3px 1px rgba(0, 0, 0, 0.15);\n",
       "      filter: drop-shadow(0px 1px 2px rgba(0, 0, 0, 0.3));\n",
       "      fill: #FFFFFF;\n",
       "    }\n",
       "  </style>\n",
       "\n",
       "      <script>\n",
       "        const buttonEl =\n",
       "          document.querySelector('#df-aa7cb7be-c7d4-4c97-9578-5e387fd5de99 button.colab-df-convert');\n",
       "        buttonEl.style.display =\n",
       "          google.colab.kernel.accessAllowed ? 'block' : 'none';\n",
       "\n",
       "        async function convertToInteractive(key) {\n",
       "          const element = document.querySelector('#df-aa7cb7be-c7d4-4c97-9578-5e387fd5de99');\n",
       "          const dataTable =\n",
       "            await google.colab.kernel.invokeFunction('convertToInteractive',\n",
       "                                                     [key], {});\n",
       "          if (!dataTable) return;\n",
       "\n",
       "          const docLinkHtml = 'Like what you see? Visit the ' +\n",
       "            '<a target=\"_blank\" href=https://colab.research.google.com/notebooks/data_table.ipynb>data table notebook</a>'\n",
       "            + ' to learn more about interactive tables.';\n",
       "          element.innerHTML = '';\n",
       "          dataTable['output_type'] = 'display_data';\n",
       "          await google.colab.output.renderOutput(dataTable, element);\n",
       "          const docLink = document.createElement('div');\n",
       "          docLink.innerHTML = docLinkHtml;\n",
       "          element.appendChild(docLink);\n",
       "        }\n",
       "      </script>\n",
       "    </div>\n",
       "  </div>\n",
       "  "
      ],
      "text/plain": [
       "   the       out       sat       man  children    around      went      fire  \\\n",
       "0  0.0  0.099021  0.000000  0.099021  0.000000  0.000000  0.099021  0.000000   \n",
       "1  0.0  0.000000  0.115525  0.000000  0.115525  0.115525  0.000000  0.115525   \n",
       "\n",
       "        for         a      walk  \n",
       "0  0.099021  0.099021  0.099021  \n",
       "1  0.000000  0.000000  0.000000  "
      ]
     },
     "execution_count": 57,
     "metadata": {},
     "output_type": "execute_result"
    }
   ],
   "source": [
    "df"
   ]
  },
  {
   "cell_type": "code",
   "execution_count": null,
   "metadata": {
    "colab": {
     "base_uri": "https://localhost:8080/"
    },
    "id": "XFSoPlKe4ozO",
    "outputId": "5de10c75-26b1-44cb-a42f-e32ef200be57"
   },
   "outputs": [
    {
     "name": "stderr",
     "output_type": "stream",
     "text": [
      "/usr/local/lib/python3.7/dist-packages/sklearn/utils/deprecation.py:87: FutureWarning: Function get_feature_names is deprecated; get_feature_names is deprecated in 1.0 and will be removed in 1.2. Please use get_feature_names_out instead.\n",
      "  warnings.warn(msg, category=FutureWarning)\n"
     ]
    }
   ],
   "source": [
    "\n",
    "vectorizer = TfidfVectorizer()\n",
    "vectors = vectorizer.fit_transform([documentA, documentB])\n",
    "feature_names = vectorizer.get_feature_names()\n",
    "dense = vectors.todense()\n",
    "denselist = dense.tolist()\n",
    "df = pd.DataFrame(denselist, columns=feature_names)\n"
   ]
  },
  {
   "cell_type": "code",
   "execution_count": null,
   "metadata": {
    "colab": {
     "base_uri": "https://localhost:8080/",
     "height": 112
    },
    "id": "ml1k6ZrM7JsL",
    "outputId": "f31151e3-ec9f-4995-b008-c064771b0184"
   },
   "outputs": [
    {
     "data": {
      "text/html": [
       "\n",
       "  <div id=\"df-203841a5-e8ab-4145-b635-5ed8d1a73b83\">\n",
       "    <div class=\"colab-df-container\">\n",
       "      <div>\n",
       "<style scoped>\n",
       "    .dataframe tbody tr th:only-of-type {\n",
       "        vertical-align: middle;\n",
       "    }\n",
       "\n",
       "    .dataframe tbody tr th {\n",
       "        vertical-align: top;\n",
       "    }\n",
       "\n",
       "    .dataframe thead th {\n",
       "        text-align: right;\n",
       "    }\n",
       "</style>\n",
       "<table border=\"1\" class=\"dataframe\">\n",
       "  <thead>\n",
       "    <tr style=\"text-align: right;\">\n",
       "      <th></th>\n",
       "      <th>around</th>\n",
       "      <th>children</th>\n",
       "      <th>fire</th>\n",
       "      <th>for</th>\n",
       "      <th>man</th>\n",
       "      <th>out</th>\n",
       "      <th>sat</th>\n",
       "      <th>the</th>\n",
       "      <th>walk</th>\n",
       "      <th>went</th>\n",
       "    </tr>\n",
       "  </thead>\n",
       "  <tbody>\n",
       "    <tr>\n",
       "      <th>0</th>\n",
       "      <td>0.000000</td>\n",
       "      <td>0.000000</td>\n",
       "      <td>0.000000</td>\n",
       "      <td>0.42616</td>\n",
       "      <td>0.42616</td>\n",
       "      <td>0.42616</td>\n",
       "      <td>0.000000</td>\n",
       "      <td>0.303216</td>\n",
       "      <td>0.42616</td>\n",
       "      <td>0.42616</td>\n",
       "    </tr>\n",
       "    <tr>\n",
       "      <th>1</th>\n",
       "      <td>0.407401</td>\n",
       "      <td>0.407401</td>\n",
       "      <td>0.407401</td>\n",
       "      <td>0.00000</td>\n",
       "      <td>0.00000</td>\n",
       "      <td>0.00000</td>\n",
       "      <td>0.407401</td>\n",
       "      <td>0.579739</td>\n",
       "      <td>0.00000</td>\n",
       "      <td>0.00000</td>\n",
       "    </tr>\n",
       "  </tbody>\n",
       "</table>\n",
       "</div>\n",
       "      <button class=\"colab-df-convert\" onclick=\"convertToInteractive('df-203841a5-e8ab-4145-b635-5ed8d1a73b83')\"\n",
       "              title=\"Convert this dataframe to an interactive table.\"\n",
       "              style=\"display:none;\">\n",
       "        \n",
       "  <svg xmlns=\"http://www.w3.org/2000/svg\" height=\"24px\"viewBox=\"0 0 24 24\"\n",
       "       width=\"24px\">\n",
       "    <path d=\"M0 0h24v24H0V0z\" fill=\"none\"/>\n",
       "    <path d=\"M18.56 5.44l.94 2.06.94-2.06 2.06-.94-2.06-.94-.94-2.06-.94 2.06-2.06.94zm-11 1L8.5 8.5l.94-2.06 2.06-.94-2.06-.94L8.5 2.5l-.94 2.06-2.06.94zm10 10l.94 2.06.94-2.06 2.06-.94-2.06-.94-.94-2.06-.94 2.06-2.06.94z\"/><path d=\"M17.41 7.96l-1.37-1.37c-.4-.4-.92-.59-1.43-.59-.52 0-1.04.2-1.43.59L10.3 9.45l-7.72 7.72c-.78.78-.78 2.05 0 2.83L4 21.41c.39.39.9.59 1.41.59.51 0 1.02-.2 1.41-.59l7.78-7.78 2.81-2.81c.8-.78.8-2.07 0-2.86zM5.41 20L4 18.59l7.72-7.72 1.47 1.35L5.41 20z\"/>\n",
       "  </svg>\n",
       "      </button>\n",
       "      \n",
       "  <style>\n",
       "    .colab-df-container {\n",
       "      display:flex;\n",
       "      flex-wrap:wrap;\n",
       "      gap: 12px;\n",
       "    }\n",
       "\n",
       "    .colab-df-convert {\n",
       "      background-color: #E8F0FE;\n",
       "      border: none;\n",
       "      border-radius: 50%;\n",
       "      cursor: pointer;\n",
       "      display: none;\n",
       "      fill: #1967D2;\n",
       "      height: 32px;\n",
       "      padding: 0 0 0 0;\n",
       "      width: 32px;\n",
       "    }\n",
       "\n",
       "    .colab-df-convert:hover {\n",
       "      background-color: #E2EBFA;\n",
       "      box-shadow: 0px 1px 2px rgba(60, 64, 67, 0.3), 0px 1px 3px 1px rgba(60, 64, 67, 0.15);\n",
       "      fill: #174EA6;\n",
       "    }\n",
       "\n",
       "    [theme=dark] .colab-df-convert {\n",
       "      background-color: #3B4455;\n",
       "      fill: #D2E3FC;\n",
       "    }\n",
       "\n",
       "    [theme=dark] .colab-df-convert:hover {\n",
       "      background-color: #434B5C;\n",
       "      box-shadow: 0px 1px 3px 1px rgba(0, 0, 0, 0.15);\n",
       "      filter: drop-shadow(0px 1px 2px rgba(0, 0, 0, 0.3));\n",
       "      fill: #FFFFFF;\n",
       "    }\n",
       "  </style>\n",
       "\n",
       "      <script>\n",
       "        const buttonEl =\n",
       "          document.querySelector('#df-203841a5-e8ab-4145-b635-5ed8d1a73b83 button.colab-df-convert');\n",
       "        buttonEl.style.display =\n",
       "          google.colab.kernel.accessAllowed ? 'block' : 'none';\n",
       "\n",
       "        async function convertToInteractive(key) {\n",
       "          const element = document.querySelector('#df-203841a5-e8ab-4145-b635-5ed8d1a73b83');\n",
       "          const dataTable =\n",
       "            await google.colab.kernel.invokeFunction('convertToInteractive',\n",
       "                                                     [key], {});\n",
       "          if (!dataTable) return;\n",
       "\n",
       "          const docLinkHtml = 'Like what you see? Visit the ' +\n",
       "            '<a target=\"_blank\" href=https://colab.research.google.com/notebooks/data_table.ipynb>data table notebook</a>'\n",
       "            + ' to learn more about interactive tables.';\n",
       "          element.innerHTML = '';\n",
       "          dataTable['output_type'] = 'display_data';\n",
       "          await google.colab.output.renderOutput(dataTable, element);\n",
       "          const docLink = document.createElement('div');\n",
       "          docLink.innerHTML = docLinkHtml;\n",
       "          element.appendChild(docLink);\n",
       "        }\n",
       "      </script>\n",
       "    </div>\n",
       "  </div>\n",
       "  "
      ],
      "text/plain": [
       "     around  children      fire      for      man      out       sat  \\\n",
       "0  0.000000  0.000000  0.000000  0.42616  0.42616  0.42616  0.000000   \n",
       "1  0.407401  0.407401  0.407401  0.00000  0.00000  0.00000  0.407401   \n",
       "\n",
       "        the     walk     went  \n",
       "0  0.303216  0.42616  0.42616  \n",
       "1  0.579739  0.00000  0.00000  "
      ]
     },
     "execution_count": 59,
     "metadata": {},
     "output_type": "execute_result"
    }
   ],
   "source": [
    "df"
   ]
  },
  {
   "cell_type": "code",
   "execution_count": null,
   "metadata": {
    "id": "pkpfV-6r7Kf8"
   },
   "outputs": [],
   "source": []
  }
 ],
 "metadata": {
  "colab": {
   "name": "TF-IDF Intuition",
   "provenance": []
  },
  "kernelspec": {
   "display_name": "Python 3 (ipykernel)",
   "language": "python",
   "name": "python3"
  },
  "language_info": {
   "codemirror_mode": {
    "name": "ipython",
    "version": 3
   },
   "file_extension": ".py",
   "mimetype": "text/x-python",
   "name": "python",
   "nbconvert_exporter": "python",
   "pygments_lexer": "ipython3",
   "version": "3.9.7"
  }
 },
 "nbformat": 4,
 "nbformat_minor": 1
}
